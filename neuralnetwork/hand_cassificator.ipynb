{
 "cells": [
  {
   "cell_type": "markdown",
   "metadata": {},
   "source": [
    "### Notebook for training the hand gesture classification"
   ]
  },
  {
   "cell_type": "code",
   "execution_count": 1,
   "metadata": {},
   "outputs": [],
   "source": [
    "#Import dependencies\n",
    "\n",
    "import csv\n",
    "import pandas as pd\n",
    "import seaborn as sns\n",
    "import matplotlib.pyplot as plt\n",
    "import numpy as np\n",
    "import tensorflow as tf\n",
    "\n",
    "from sklearn.model_selection import train_test_split\n",
    "from sklearn.metrics import confusion_matrix, classification_report\n",
    "\n",
    "import plotly.graph_objects as go\n",
    "import plotly.offline as pyo\n",
    "from plotly.subplots import make_subplots\n",
    "\n",
    "\n",
    "RANDOM_SEED = 42"
   ]
  },
  {
   "cell_type": "code",
   "execution_count": 2,
   "metadata": {},
   "outputs": [],
   "source": [
    "#Path selection and definition of constant\n",
    "\n",
    "dataset = '../assets/dataset/keypoint.csv'\n",
    "model_save_path = '../assets/models'\n",
    "tflite_save_path = '../assets/models/tf_LiteModel.tflite'\n",
    "\n",
    "epoche = 1000\n",
    "batch_size = 128\n",
    "num_classes = 6"
   ]
  },
  {
   "cell_type": "markdown",
   "metadata": {},
   "source": [
    "### Dataset Reading"
   ]
  },
  {
   "cell_type": "code",
   "execution_count": null,
   "metadata": {},
   "outputs": [],
   "source": [
    "# Alternative way to split dataset in test_set and train_set\n",
    "\n",
    "x_dataset = np.loadtxt(dataset, delimiter=',', dtype='float32', usecols=list(range(1, (21 * 2) + 1)))\n",
    "\n",
    "y_dataset = np.loadtxt(dataset, delimiter=',', dtype='int32', usecols=(0))\n",
    "\n",
    "x_train, x_test, y_train, y_test = train_test_split(x_dataset, y_dataset, train_size=0.70, random_state=RANDOM_SEED)"
   ]
  },
  {
   "cell_type": "code",
   "execution_count": 9,
   "metadata": {},
   "outputs": [],
   "source": [
    "# split dataset in 60% train_set, 20% test_set and 20% validation_set\n",
    "\n",
    "df = pd.read_csv(dataset)\n",
    "\n",
    "train_dataset, test_dataset, validation_dataset = np.split(df.sample(frac=1, random_state=RANDOM_SEED), \n",
    "                       [int(.6*len(df)), int(.8*len(df))])\n",
    "\n",
    "# x_train y_train \n",
    "x_train = np.array(train_dataset.iloc[:, 1:])\n",
    "y_train = np.array(train_dataset.iloc[:, 0])\n",
    "\n",
    "# x_test y_test\n",
    "x_test = np.array(test_dataset.iloc[:, 1:])\n",
    "y_test = np.array(test_dataset.iloc[:, 0])\n",
    "\n",
    "# x_validation y_validation\n",
    "x_validation = np.array(validation_dataset.iloc[:, 1:])\n",
    "y_validation = np.array(validation_dataset.iloc[:, 0])                       \n"
   ]
  },
  {
   "cell_type": "markdown",
   "metadata": {},
   "source": [
    "### Data Plot\n"
   ]
  },
  {
   "cell_type": "code",
   "execution_count": 10,
   "metadata": {},
   "outputs": [],
   "source": [
    "def dict_value(y_dataset):\n",
    "    dict = {}\n",
    "    for element in y_dataset:\n",
    "        if element in dict:\n",
    "            valore = dict[element]\n",
    "            valore = valore + 1\n",
    "            dict[element] = valore\n",
    "        else :\n",
    "            dict[element] = 1    \n",
    "    return dict"
   ]
  },
  {
   "cell_type": "code",
   "execution_count": 11,
   "metadata": {},
   "outputs": [
    {
     "data": {
      "application/vnd.plotly.v1+json": {
       "config": {
        "linkText": "Export to plot.ly",
        "plotlyServerURL": "https://plot.ly",
        "showLink": false
       },
       "data": [
        {
         "name": "Palm open",
         "type": "bar",
         "x": [
          "train data",
          " test data",
          "convalidation data"
         ],
         "y": [
          1798,
          614,
          587
         ]
        },
        {
         "name": "Fist",
         "type": "bar",
         "x": [
          "train data",
          " test data",
          "convalidation data"
         ],
         "y": [
          1831,
          597,
          572
         ]
        },
        {
         "name": "Index",
         "type": "bar",
         "x": [
          "train data",
          " test data",
          "convalidation data"
         ],
         "y": [
          1803,
          588,
          609
         ]
        },
        {
         "name": "Finger 2",
         "type": "bar",
         "x": [
          "train data",
          " test data",
          "convalidation data"
         ],
         "y": [
          1789,
          603,
          608
         ]
        },
        {
         "name": "Finger 3",
         "type": "bar",
         "x": [
          "train data",
          " test data",
          "convalidation data"
         ],
         "y": [
          1804,
          607,
          589
         ]
        },
        {
         "name": "Finger 4",
         "type": "bar",
         "x": [
          "train data",
          " test data",
          "convalidation data"
         ],
         "y": [
          1774,
          591,
          635
         ]
        }
       ],
       "layout": {
        "barmode": "group",
        "template": {
         "data": {
          "bar": [
           {
            "error_x": {
             "color": "#2a3f5f"
            },
            "error_y": {
             "color": "#2a3f5f"
            },
            "marker": {
             "line": {
              "color": "#E5ECF6",
              "width": 0.5
             },
             "pattern": {
              "fillmode": "overlay",
              "size": 10,
              "solidity": 0.2
             }
            },
            "type": "bar"
           }
          ],
          "barpolar": [
           {
            "marker": {
             "line": {
              "color": "#E5ECF6",
              "width": 0.5
             },
             "pattern": {
              "fillmode": "overlay",
              "size": 10,
              "solidity": 0.2
             }
            },
            "type": "barpolar"
           }
          ],
          "carpet": [
           {
            "aaxis": {
             "endlinecolor": "#2a3f5f",
             "gridcolor": "white",
             "linecolor": "white",
             "minorgridcolor": "white",
             "startlinecolor": "#2a3f5f"
            },
            "baxis": {
             "endlinecolor": "#2a3f5f",
             "gridcolor": "white",
             "linecolor": "white",
             "minorgridcolor": "white",
             "startlinecolor": "#2a3f5f"
            },
            "type": "carpet"
           }
          ],
          "choropleth": [
           {
            "colorbar": {
             "outlinewidth": 0,
             "ticks": ""
            },
            "type": "choropleth"
           }
          ],
          "contour": [
           {
            "colorbar": {
             "outlinewidth": 0,
             "ticks": ""
            },
            "colorscale": [
             [
              0,
              "#0d0887"
             ],
             [
              0.1111111111111111,
              "#46039f"
             ],
             [
              0.2222222222222222,
              "#7201a8"
             ],
             [
              0.3333333333333333,
              "#9c179e"
             ],
             [
              0.4444444444444444,
              "#bd3786"
             ],
             [
              0.5555555555555556,
              "#d8576b"
             ],
             [
              0.6666666666666666,
              "#ed7953"
             ],
             [
              0.7777777777777778,
              "#fb9f3a"
             ],
             [
              0.8888888888888888,
              "#fdca26"
             ],
             [
              1,
              "#f0f921"
             ]
            ],
            "type": "contour"
           }
          ],
          "contourcarpet": [
           {
            "colorbar": {
             "outlinewidth": 0,
             "ticks": ""
            },
            "type": "contourcarpet"
           }
          ],
          "heatmap": [
           {
            "colorbar": {
             "outlinewidth": 0,
             "ticks": ""
            },
            "colorscale": [
             [
              0,
              "#0d0887"
             ],
             [
              0.1111111111111111,
              "#46039f"
             ],
             [
              0.2222222222222222,
              "#7201a8"
             ],
             [
              0.3333333333333333,
              "#9c179e"
             ],
             [
              0.4444444444444444,
              "#bd3786"
             ],
             [
              0.5555555555555556,
              "#d8576b"
             ],
             [
              0.6666666666666666,
              "#ed7953"
             ],
             [
              0.7777777777777778,
              "#fb9f3a"
             ],
             [
              0.8888888888888888,
              "#fdca26"
             ],
             [
              1,
              "#f0f921"
             ]
            ],
            "type": "heatmap"
           }
          ],
          "heatmapgl": [
           {
            "colorbar": {
             "outlinewidth": 0,
             "ticks": ""
            },
            "colorscale": [
             [
              0,
              "#0d0887"
             ],
             [
              0.1111111111111111,
              "#46039f"
             ],
             [
              0.2222222222222222,
              "#7201a8"
             ],
             [
              0.3333333333333333,
              "#9c179e"
             ],
             [
              0.4444444444444444,
              "#bd3786"
             ],
             [
              0.5555555555555556,
              "#d8576b"
             ],
             [
              0.6666666666666666,
              "#ed7953"
             ],
             [
              0.7777777777777778,
              "#fb9f3a"
             ],
             [
              0.8888888888888888,
              "#fdca26"
             ],
             [
              1,
              "#f0f921"
             ]
            ],
            "type": "heatmapgl"
           }
          ],
          "histogram": [
           {
            "marker": {
             "pattern": {
              "fillmode": "overlay",
              "size": 10,
              "solidity": 0.2
             }
            },
            "type": "histogram"
           }
          ],
          "histogram2d": [
           {
            "colorbar": {
             "outlinewidth": 0,
             "ticks": ""
            },
            "colorscale": [
             [
              0,
              "#0d0887"
             ],
             [
              0.1111111111111111,
              "#46039f"
             ],
             [
              0.2222222222222222,
              "#7201a8"
             ],
             [
              0.3333333333333333,
              "#9c179e"
             ],
             [
              0.4444444444444444,
              "#bd3786"
             ],
             [
              0.5555555555555556,
              "#d8576b"
             ],
             [
              0.6666666666666666,
              "#ed7953"
             ],
             [
              0.7777777777777778,
              "#fb9f3a"
             ],
             [
              0.8888888888888888,
              "#fdca26"
             ],
             [
              1,
              "#f0f921"
             ]
            ],
            "type": "histogram2d"
           }
          ],
          "histogram2dcontour": [
           {
            "colorbar": {
             "outlinewidth": 0,
             "ticks": ""
            },
            "colorscale": [
             [
              0,
              "#0d0887"
             ],
             [
              0.1111111111111111,
              "#46039f"
             ],
             [
              0.2222222222222222,
              "#7201a8"
             ],
             [
              0.3333333333333333,
              "#9c179e"
             ],
             [
              0.4444444444444444,
              "#bd3786"
             ],
             [
              0.5555555555555556,
              "#d8576b"
             ],
             [
              0.6666666666666666,
              "#ed7953"
             ],
             [
              0.7777777777777778,
              "#fb9f3a"
             ],
             [
              0.8888888888888888,
              "#fdca26"
             ],
             [
              1,
              "#f0f921"
             ]
            ],
            "type": "histogram2dcontour"
           }
          ],
          "mesh3d": [
           {
            "colorbar": {
             "outlinewidth": 0,
             "ticks": ""
            },
            "type": "mesh3d"
           }
          ],
          "parcoords": [
           {
            "line": {
             "colorbar": {
              "outlinewidth": 0,
              "ticks": ""
             }
            },
            "type": "parcoords"
           }
          ],
          "pie": [
           {
            "automargin": true,
            "type": "pie"
           }
          ],
          "scatter": [
           {
            "fillpattern": {
             "fillmode": "overlay",
             "size": 10,
             "solidity": 0.2
            },
            "type": "scatter"
           }
          ],
          "scatter3d": [
           {
            "line": {
             "colorbar": {
              "outlinewidth": 0,
              "ticks": ""
             }
            },
            "marker": {
             "colorbar": {
              "outlinewidth": 0,
              "ticks": ""
             }
            },
            "type": "scatter3d"
           }
          ],
          "scattercarpet": [
           {
            "marker": {
             "colorbar": {
              "outlinewidth": 0,
              "ticks": ""
             }
            },
            "type": "scattercarpet"
           }
          ],
          "scattergeo": [
           {
            "marker": {
             "colorbar": {
              "outlinewidth": 0,
              "ticks": ""
             }
            },
            "type": "scattergeo"
           }
          ],
          "scattergl": [
           {
            "marker": {
             "colorbar": {
              "outlinewidth": 0,
              "ticks": ""
             }
            },
            "type": "scattergl"
           }
          ],
          "scattermapbox": [
           {
            "marker": {
             "colorbar": {
              "outlinewidth": 0,
              "ticks": ""
             }
            },
            "type": "scattermapbox"
           }
          ],
          "scatterpolar": [
           {
            "marker": {
             "colorbar": {
              "outlinewidth": 0,
              "ticks": ""
             }
            },
            "type": "scatterpolar"
           }
          ],
          "scatterpolargl": [
           {
            "marker": {
             "colorbar": {
              "outlinewidth": 0,
              "ticks": ""
             }
            },
            "type": "scatterpolargl"
           }
          ],
          "scatterternary": [
           {
            "marker": {
             "colorbar": {
              "outlinewidth": 0,
              "ticks": ""
             }
            },
            "type": "scatterternary"
           }
          ],
          "surface": [
           {
            "colorbar": {
             "outlinewidth": 0,
             "ticks": ""
            },
            "colorscale": [
             [
              0,
              "#0d0887"
             ],
             [
              0.1111111111111111,
              "#46039f"
             ],
             [
              0.2222222222222222,
              "#7201a8"
             ],
             [
              0.3333333333333333,
              "#9c179e"
             ],
             [
              0.4444444444444444,
              "#bd3786"
             ],
             [
              0.5555555555555556,
              "#d8576b"
             ],
             [
              0.6666666666666666,
              "#ed7953"
             ],
             [
              0.7777777777777778,
              "#fb9f3a"
             ],
             [
              0.8888888888888888,
              "#fdca26"
             ],
             [
              1,
              "#f0f921"
             ]
            ],
            "type": "surface"
           }
          ],
          "table": [
           {
            "cells": {
             "fill": {
              "color": "#EBF0F8"
             },
             "line": {
              "color": "white"
             }
            },
            "header": {
             "fill": {
              "color": "#C8D4E3"
             },
             "line": {
              "color": "white"
             }
            },
            "type": "table"
           }
          ]
         },
         "layout": {
          "annotationdefaults": {
           "arrowcolor": "#2a3f5f",
           "arrowhead": 0,
           "arrowwidth": 1
          },
          "autotypenumbers": "strict",
          "coloraxis": {
           "colorbar": {
            "outlinewidth": 0,
            "ticks": ""
           }
          },
          "colorscale": {
           "diverging": [
            [
             0,
             "#8e0152"
            ],
            [
             0.1,
             "#c51b7d"
            ],
            [
             0.2,
             "#de77ae"
            ],
            [
             0.3,
             "#f1b6da"
            ],
            [
             0.4,
             "#fde0ef"
            ],
            [
             0.5,
             "#f7f7f7"
            ],
            [
             0.6,
             "#e6f5d0"
            ],
            [
             0.7,
             "#b8e186"
            ],
            [
             0.8,
             "#7fbc41"
            ],
            [
             0.9,
             "#4d9221"
            ],
            [
             1,
             "#276419"
            ]
           ],
           "sequential": [
            [
             0,
             "#0d0887"
            ],
            [
             0.1111111111111111,
             "#46039f"
            ],
            [
             0.2222222222222222,
             "#7201a8"
            ],
            [
             0.3333333333333333,
             "#9c179e"
            ],
            [
             0.4444444444444444,
             "#bd3786"
            ],
            [
             0.5555555555555556,
             "#d8576b"
            ],
            [
             0.6666666666666666,
             "#ed7953"
            ],
            [
             0.7777777777777778,
             "#fb9f3a"
            ],
            [
             0.8888888888888888,
             "#fdca26"
            ],
            [
             1,
             "#f0f921"
            ]
           ],
           "sequentialminus": [
            [
             0,
             "#0d0887"
            ],
            [
             0.1111111111111111,
             "#46039f"
            ],
            [
             0.2222222222222222,
             "#7201a8"
            ],
            [
             0.3333333333333333,
             "#9c179e"
            ],
            [
             0.4444444444444444,
             "#bd3786"
            ],
            [
             0.5555555555555556,
             "#d8576b"
            ],
            [
             0.6666666666666666,
             "#ed7953"
            ],
            [
             0.7777777777777778,
             "#fb9f3a"
            ],
            [
             0.8888888888888888,
             "#fdca26"
            ],
            [
             1,
             "#f0f921"
            ]
           ]
          },
          "colorway": [
           "#636efa",
           "#EF553B",
           "#00cc96",
           "#ab63fa",
           "#FFA15A",
           "#19d3f3",
           "#FF6692",
           "#B6E880",
           "#FF97FF",
           "#FECB52"
          ],
          "font": {
           "color": "#2a3f5f"
          },
          "geo": {
           "bgcolor": "white",
           "lakecolor": "white",
           "landcolor": "#E5ECF6",
           "showlakes": true,
           "showland": true,
           "subunitcolor": "white"
          },
          "hoverlabel": {
           "align": "left"
          },
          "hovermode": "closest",
          "mapbox": {
           "style": "light"
          },
          "paper_bgcolor": "white",
          "plot_bgcolor": "#E5ECF6",
          "polar": {
           "angularaxis": {
            "gridcolor": "white",
            "linecolor": "white",
            "ticks": ""
           },
           "bgcolor": "#E5ECF6",
           "radialaxis": {
            "gridcolor": "white",
            "linecolor": "white",
            "ticks": ""
           }
          },
          "scene": {
           "xaxis": {
            "backgroundcolor": "#E5ECF6",
            "gridcolor": "white",
            "gridwidth": 2,
            "linecolor": "white",
            "showbackground": true,
            "ticks": "",
            "zerolinecolor": "white"
           },
           "yaxis": {
            "backgroundcolor": "#E5ECF6",
            "gridcolor": "white",
            "gridwidth": 2,
            "linecolor": "white",
            "showbackground": true,
            "ticks": "",
            "zerolinecolor": "white"
           },
           "zaxis": {
            "backgroundcolor": "#E5ECF6",
            "gridcolor": "white",
            "gridwidth": 2,
            "linecolor": "white",
            "showbackground": true,
            "ticks": "",
            "zerolinecolor": "white"
           }
          },
          "shapedefaults": {
           "line": {
            "color": "#2a3f5f"
           }
          },
          "ternary": {
           "aaxis": {
            "gridcolor": "white",
            "linecolor": "white",
            "ticks": ""
           },
           "baxis": {
            "gridcolor": "white",
            "linecolor": "white",
            "ticks": ""
           },
           "bgcolor": "#E5ECF6",
           "caxis": {
            "gridcolor": "white",
            "linecolor": "white",
            "ticks": ""
           }
          },
          "title": {
           "x": 0.05
          },
          "xaxis": {
           "automargin": true,
           "gridcolor": "white",
           "linecolor": "white",
           "ticks": "",
           "title": {
            "standoff": 15
           },
           "zerolinecolor": "white",
           "zerolinewidth": 2
          },
          "yaxis": {
           "automargin": true,
           "gridcolor": "white",
           "linecolor": "white",
           "ticks": "",
           "title": {
            "standoff": 15
           },
           "zerolinecolor": "white",
           "zerolinewidth": 2
          }
         }
        },
        "yaxis": {
         "type": "log"
        }
       }
      }
     },
     "metadata": {},
     "output_type": "display_data"
    }
   ],
   "source": [
    "dict_train = dict_value(y_train)\n",
    "dict_test = dict_value(y_test)\n",
    "dict_validation = dict_value(y_validation) \n",
    "\n",
    "\n",
    "fig = go.Figure(data=[\n",
    "    go.Bar(name = 'Palm open',x=['train data', ' test data', 'convalidation data'], y=[dict_train[0], dict_test[0], dict_validation[0]]),\n",
    "    go.Bar(name = 'Fist',x= ['train data', ' test data', 'convalidation data'], y=[dict_train[1], dict_test[1], dict_validation[1]]),\n",
    "    go.Bar(name = 'Index',x= ['train data', ' test data', 'convalidation data'], y=[dict_train[2], dict_test[2], dict_validation[2]]),\n",
    "    go.Bar(name = 'Finger 2',x= ['train data', ' test data', 'convalidation data'], y=[dict_train[3], dict_test[3], dict_validation[3]]),\n",
    "    go.Bar(name = 'Finger 3',x= ['train data', ' test data', 'convalidation data'], y=[dict_train[4], dict_test[4], dict_validation[4]]),\n",
    "    go.Bar(name = 'Finger 4',x= ['train data', ' test data', 'convalidation data'], y=[dict_train[5], dict_test[5], dict_validation[5]]),\n",
    "])\n",
    "# Change the bar mode\n",
    "fig.update_layout(barmode='group')\n",
    "fig.update_yaxes(type = \"log\")\n",
    "pyo.iplot(fig,filename = 'split data')\n",
    "fig.write_html(\"../template/img/data-plot.html\")"
   ]
  },
  {
   "cell_type": "markdown",
   "metadata": {},
   "source": [
    "### Model Building"
   ]
  },
  {
   "cell_type": "code",
   "execution_count": 12,
   "metadata": {},
   "outputs": [
    {
     "name": "stdout",
     "output_type": "stream",
     "text": [
      "Model: \"sequential\"\n",
      "_________________________________________________________________\n",
      " Layer (type)                Output Shape              Param #   \n",
      "=================================================================\n",
      " dropout (Dropout)           (None, 42)                0         \n",
      "                                                                 \n",
      " dense (Dense)               (None, 20)                860       \n",
      "                                                                 \n",
      " dropout_1 (Dropout)         (None, 20)                0         \n",
      "                                                                 \n",
      " dense_1 (Dense)             (None, 10)                210       \n",
      "                                                                 \n",
      " dense_2 (Dense)             (None, 6)                 66        \n",
      "                                                                 \n",
      "=================================================================\n",
      "Total params: 1,136\n",
      "Trainable params: 1,136\n",
      "Non-trainable params: 0\n",
      "_________________________________________________________________\n"
     ]
    }
   ],
   "source": [
    "model = tf.keras.models.Sequential([\n",
    "    tf.keras.layers.Input((21 * 2, )),\n",
    "    tf.keras.layers.Dropout(0.2),\n",
    "    tf.keras.layers.Dense(20, activation='relu'),\n",
    "    tf.keras.layers.Dropout(0.4),\n",
    "    tf.keras.layers.Dense(10, activation='relu'),\n",
    "    tf.keras.layers.Dense(num_classes, activation='softmax'),\n",
    "])\n",
    "\n",
    "\n",
    "model.summary()"
   ]
  },
  {
   "cell_type": "code",
   "execution_count": 13,
   "metadata": {},
   "outputs": [
    {
     "name": "stdout",
     "output_type": "stream",
     "text": [
      "Model: \"sequential\"\n",
      "_________________________________________________________________\n",
      " Layer (type)                Output Shape              Param #   \n",
      "=================================================================\n",
      " dropout (Dropout)           (None, 42)                0         \n",
      "                                                                 \n",
      " dense (Dense)               (None, 20)                860       \n",
      "                                                                 \n",
      " dropout_1 (Dropout)         (None, 20)                0         \n",
      "                                                                 \n",
      " dense_1 (Dense)             (None, 10)                210       \n",
      "                                                                 \n",
      " dense_2 (Dense)             (None, 6)                 66        \n",
      "                                                                 \n",
      "=================================================================\n",
      "Total params: 1,136\n",
      "Trainable params: 1,136\n",
      "Non-trainable params: 0\n",
      "_________________________________________________________________\n"
     ]
    }
   ],
   "source": [
    "# Model checkpoint callback\n",
    "cp_callback = tf.keras.callbacks.ModelCheckpoint(\n",
    "model_save_path+'/model.h5',verbose=1, save_weights_only=False, save_best_only= True, mode='auto')\n",
    "# Callback for early stopping\n",
    "es_callback = tf.keras.callbacks.EarlyStopping(patience=20, verbose=1)\n",
    "\n",
    "# Model compilation\n",
    "model.compile(\n",
    "    optimizer= tf.keras.optimizers.Adam(learning_rate=1e-3),\n",
    "    loss='sparse_categorical_crossentropy',\n",
    "    metrics=['accuracy']\n",
    ")\n",
    "\n",
    "model.summary()"
   ]
  },
  {
   "cell_type": "markdown",
   "metadata": {},
   "source": [
    "### Training"
   ]
  },
  {
   "cell_type": "code",
   "execution_count": 14,
   "metadata": {},
   "outputs": [
    {
     "name": "stdout",
     "output_type": "stream",
     "text": [
      "Epoch 1/1000\n",
      "56/85 [==================>...........] - ETA: 0s - loss: 1.7603 - accuracy: 0.2390\n",
      "Epoch 1: val_loss improved from inf to 1.43123, saving model to ../assets/models/model.h5\n",
      "85/85 [==============================] - 1s 6ms/step - loss: 1.7114 - accuracy: 0.2614 - val_loss: 1.4312 - val_accuracy: 0.4114\n",
      "Epoch 2/1000\n",
      "82/85 [===========================>..] - ETA: 0s - loss: 1.3984 - accuracy: 0.4217\n",
      "Epoch 2: val_loss improved from 1.43123 to 1.04179, saving model to ../assets/models/model.h5\n",
      "85/85 [==============================] - 0s 3ms/step - loss: 1.3959 - accuracy: 0.4224 - val_loss: 1.0418 - val_accuracy: 0.7256\n",
      "Epoch 3/1000\n",
      "64/85 [=====================>........] - ETA: 0s - loss: 1.1742 - accuracy: 0.5360\n",
      "Epoch 3: val_loss improved from 1.04179 to 0.78424, saving model to ../assets/models/model.h5\n",
      "85/85 [==============================] - 0s 3ms/step - loss: 1.1497 - accuracy: 0.5471 - val_loss: 0.7842 - val_accuracy: 0.9200\n",
      "Epoch 4/1000\n",
      "76/85 [=========================>....] - ETA: 0s - loss: 0.9859 - accuracy: 0.6260\n",
      "Epoch 4: val_loss improved from 0.78424 to 0.58851, saving model to ../assets/models/model.h5\n",
      "85/85 [==============================] - 0s 3ms/step - loss: 0.9775 - accuracy: 0.6292 - val_loss: 0.5885 - val_accuracy: 0.9547\n",
      "Epoch 5/1000\n",
      "78/85 [==========================>...] - ETA: 0s - loss: 0.8442 - accuracy: 0.6825\n",
      "Epoch 5: val_loss improved from 0.58851 to 0.42339, saving model to ../assets/models/model.h5\n",
      "85/85 [==============================] - 0s 3ms/step - loss: 0.8406 - accuracy: 0.6850 - val_loss: 0.4234 - val_accuracy: 0.9783\n",
      "Epoch 6/1000\n",
      "71/85 [========================>.....] - ETA: 0s - loss: 0.7562 - accuracy: 0.7233\n",
      "Epoch 6: val_loss improved from 0.42339 to 0.32499, saving model to ../assets/models/model.h5\n",
      "85/85 [==============================] - 0s 4ms/step - loss: 0.7464 - accuracy: 0.7264 - val_loss: 0.3250 - val_accuracy: 0.9844\n",
      "Epoch 7/1000\n",
      "80/85 [===========================>..] - ETA: 0s - loss: 0.6605 - accuracy: 0.7606\n",
      "Epoch 7: val_loss improved from 0.32499 to 0.25629, saving model to ../assets/models/model.h5\n",
      "85/85 [==============================] - 0s 3ms/step - loss: 0.6576 - accuracy: 0.7620 - val_loss: 0.2563 - val_accuracy: 0.9894\n",
      "Epoch 8/1000\n",
      "82/85 [===========================>..] - ETA: 0s - loss: 0.6262 - accuracy: 0.7772\n",
      "Epoch 8: val_loss improved from 0.25629 to 0.21518, saving model to ../assets/models/model.h5\n",
      "85/85 [==============================] - 0s 4ms/step - loss: 0.6251 - accuracy: 0.7771 - val_loss: 0.2152 - val_accuracy: 0.9897\n",
      "Epoch 9/1000\n",
      "81/85 [===========================>..] - ETA: 0s - loss: 0.5766 - accuracy: 0.7941\n",
      "Epoch 9: val_loss improved from 0.21518 to 0.18752, saving model to ../assets/models/model.h5\n",
      "85/85 [==============================] - 0s 3ms/step - loss: 0.5738 - accuracy: 0.7955 - val_loss: 0.1875 - val_accuracy: 0.9922\n",
      "Epoch 10/1000\n",
      "80/85 [===========================>..] - ETA: 0s - loss: 0.5412 - accuracy: 0.8053\n",
      "Epoch 10: val_loss improved from 0.18752 to 0.15763, saving model to ../assets/models/model.h5\n",
      "85/85 [==============================] - 0s 3ms/step - loss: 0.5431 - accuracy: 0.8044 - val_loss: 0.1576 - val_accuracy: 0.9925\n",
      "Epoch 11/1000\n",
      "78/85 [==========================>...] - ETA: 0s - loss: 0.5166 - accuracy: 0.8208\n",
      "Epoch 11: val_loss improved from 0.15763 to 0.13918, saving model to ../assets/models/model.h5\n",
      "85/85 [==============================] - 0s 3ms/step - loss: 0.5130 - accuracy: 0.8227 - val_loss: 0.1392 - val_accuracy: 0.9956\n",
      "Epoch 12/1000\n",
      "69/85 [=======================>......] - ETA: 0s - loss: 0.4800 - accuracy: 0.8330\n",
      "Epoch 12: val_loss improved from 0.13918 to 0.12047, saving model to ../assets/models/model.h5\n",
      "85/85 [==============================] - 0s 3ms/step - loss: 0.4772 - accuracy: 0.8344 - val_loss: 0.1205 - val_accuracy: 0.9953\n",
      "Epoch 13/1000\n",
      "81/85 [===========================>..] - ETA: 0s - loss: 0.4658 - accuracy: 0.8339\n",
      "Epoch 13: val_loss improved from 0.12047 to 0.10812, saving model to ../assets/models/model.h5\n",
      "85/85 [==============================] - 0s 3ms/step - loss: 0.4659 - accuracy: 0.8343 - val_loss: 0.1081 - val_accuracy: 0.9947\n",
      "Epoch 14/1000\n",
      "67/85 [======================>.......] - ETA: 0s - loss: 0.4214 - accuracy: 0.8580\n",
      "Epoch 14: val_loss improved from 0.10812 to 0.09666, saving model to ../assets/models/model.h5\n",
      "85/85 [==============================] - 0s 3ms/step - loss: 0.4256 - accuracy: 0.8574 - val_loss: 0.0967 - val_accuracy: 0.9958\n",
      "Epoch 15/1000\n",
      "72/85 [========================>.....] - ETA: 0s - loss: 0.4408 - accuracy: 0.8488\n",
      "Epoch 15: val_loss improved from 0.09666 to 0.08655, saving model to ../assets/models/model.h5\n",
      "85/85 [==============================] - 0s 3ms/step - loss: 0.4325 - accuracy: 0.8521 - val_loss: 0.0865 - val_accuracy: 0.9961\n",
      "Epoch 16/1000\n",
      "67/85 [======================>.......] - ETA: 0s - loss: 0.4162 - accuracy: 0.8577\n",
      "Epoch 16: val_loss improved from 0.08655 to 0.08028, saving model to ../assets/models/model.h5\n",
      "85/85 [==============================] - 0s 3ms/step - loss: 0.4181 - accuracy: 0.8584 - val_loss: 0.0803 - val_accuracy: 0.9964\n",
      "Epoch 17/1000\n",
      "81/85 [===========================>..] - ETA: 0s - loss: 0.4129 - accuracy: 0.8605\n",
      "Epoch 17: val_loss improved from 0.08028 to 0.07985, saving model to ../assets/models/model.h5\n",
      "85/85 [==============================] - 0s 3ms/step - loss: 0.4172 - accuracy: 0.8602 - val_loss: 0.0799 - val_accuracy: 0.9964\n",
      "Epoch 18/1000\n",
      "83/85 [============================>.] - ETA: 0s - loss: 0.3836 - accuracy: 0.8729\n",
      "Epoch 18: val_loss improved from 0.07985 to 0.07117, saving model to ../assets/models/model.h5\n",
      "85/85 [==============================] - 0s 3ms/step - loss: 0.3839 - accuracy: 0.8730 - val_loss: 0.0712 - val_accuracy: 0.9964\n",
      "Epoch 19/1000\n",
      "80/85 [===========================>..] - ETA: 0s - loss: 0.3905 - accuracy: 0.8666\n",
      "Epoch 19: val_loss improved from 0.07117 to 0.07037, saving model to ../assets/models/model.h5\n",
      "85/85 [==============================] - 0s 3ms/step - loss: 0.3909 - accuracy: 0.8662 - val_loss: 0.0704 - val_accuracy: 0.9978\n",
      "Epoch 20/1000\n",
      "82/85 [===========================>..] - ETA: 0s - loss: 0.3756 - accuracy: 0.8709\n",
      "Epoch 20: val_loss improved from 0.07037 to 0.06444, saving model to ../assets/models/model.h5\n",
      "85/85 [==============================] - 0s 3ms/step - loss: 0.3748 - accuracy: 0.8711 - val_loss: 0.0644 - val_accuracy: 0.9961\n",
      "Epoch 21/1000\n",
      "81/85 [===========================>..] - ETA: 0s - loss: 0.3807 - accuracy: 0.8673\n",
      "Epoch 21: val_loss did not improve from 0.06444\n",
      "85/85 [==============================] - 0s 3ms/step - loss: 0.3776 - accuracy: 0.8693 - val_loss: 0.0687 - val_accuracy: 0.9961\n",
      "Epoch 22/1000\n",
      "84/85 [============================>.] - ETA: 0s - loss: 0.3629 - accuracy: 0.8801\n",
      "Epoch 22: val_loss improved from 0.06444 to 0.05647, saving model to ../assets/models/model.h5\n",
      "85/85 [==============================] - 0s 3ms/step - loss: 0.3627 - accuracy: 0.8801 - val_loss: 0.0565 - val_accuracy: 0.9967\n",
      "Epoch 23/1000\n",
      "83/85 [============================>.] - ETA: 0s - loss: 0.3581 - accuracy: 0.8782\n",
      "Epoch 23: val_loss improved from 0.05647 to 0.05632, saving model to ../assets/models/model.h5\n",
      "85/85 [==============================] - 0s 3ms/step - loss: 0.3588 - accuracy: 0.8781 - val_loss: 0.0563 - val_accuracy: 0.9975\n",
      "Epoch 24/1000\n",
      "83/85 [============================>.] - ETA: 0s - loss: 0.3451 - accuracy: 0.8825\n",
      "Epoch 24: val_loss improved from 0.05632 to 0.05381, saving model to ../assets/models/model.h5\n",
      "85/85 [==============================] - 0s 3ms/step - loss: 0.3467 - accuracy: 0.8823 - val_loss: 0.0538 - val_accuracy: 0.9969\n",
      "Epoch 25/1000\n",
      "80/85 [===========================>..] - ETA: 0s - loss: 0.3483 - accuracy: 0.8798\n",
      "Epoch 25: val_loss did not improve from 0.05381\n",
      "85/85 [==============================] - 0s 3ms/step - loss: 0.3472 - accuracy: 0.8800 - val_loss: 0.0542 - val_accuracy: 0.9969\n",
      "Epoch 26/1000\n",
      "58/85 [===================>..........] - ETA: 0s - loss: 0.3405 - accuracy: 0.8838\n",
      "Epoch 26: val_loss improved from 0.05381 to 0.05251, saving model to ../assets/models/model.h5\n",
      "85/85 [==============================] - 0s 3ms/step - loss: 0.3445 - accuracy: 0.8838 - val_loss: 0.0525 - val_accuracy: 0.9975\n",
      "Epoch 27/1000\n",
      "83/85 [============================>.] - ETA: 0s - loss: 0.3263 - accuracy: 0.8917\n",
      "Epoch 27: val_loss improved from 0.05251 to 0.05236, saving model to ../assets/models/model.h5\n",
      "85/85 [==============================] - 0s 3ms/step - loss: 0.3269 - accuracy: 0.8915 - val_loss: 0.0524 - val_accuracy: 0.9972\n",
      "Epoch 28/1000\n",
      "83/85 [============================>.] - ETA: 0s - loss: 0.3272 - accuracy: 0.8896\n",
      "Epoch 28: val_loss improved from 0.05236 to 0.04985, saving model to ../assets/models/model.h5\n",
      "85/85 [==============================] - 0s 3ms/step - loss: 0.3259 - accuracy: 0.8900 - val_loss: 0.0498 - val_accuracy: 0.9978\n",
      "Epoch 29/1000\n",
      "81/85 [===========================>..] - ETA: 0s - loss: 0.3301 - accuracy: 0.8881\n",
      "Epoch 29: val_loss improved from 0.04985 to 0.04707, saving model to ../assets/models/model.h5\n",
      "85/85 [==============================] - 0s 3ms/step - loss: 0.3330 - accuracy: 0.8862 - val_loss: 0.0471 - val_accuracy: 0.9975\n",
      "Epoch 30/1000\n",
      "82/85 [===========================>..] - ETA: 0s - loss: 0.3324 - accuracy: 0.8914\n",
      "Epoch 30: val_loss did not improve from 0.04707\n",
      "85/85 [==============================] - 0s 3ms/step - loss: 0.3333 - accuracy: 0.8910 - val_loss: 0.0480 - val_accuracy: 0.9978\n",
      "Epoch 31/1000\n",
      "56/85 [==================>...........] - ETA: 0s - loss: 0.3120 - accuracy: 0.8956\n",
      "Epoch 31: val_loss improved from 0.04707 to 0.04352, saving model to ../assets/models/model.h5\n",
      "85/85 [==============================] - 0s 3ms/step - loss: 0.3133 - accuracy: 0.8951 - val_loss: 0.0435 - val_accuracy: 0.9978\n",
      "Epoch 32/1000\n",
      "85/85 [==============================] - ETA: 0s - loss: 0.3267 - accuracy: 0.8888\n",
      "Epoch 32: val_loss improved from 0.04352 to 0.04254, saving model to ../assets/models/model.h5\n",
      "85/85 [==============================] - 0s 3ms/step - loss: 0.3267 - accuracy: 0.8888 - val_loss: 0.0425 - val_accuracy: 0.9972\n",
      "Epoch 33/1000\n",
      "69/85 [=======================>......] - ETA: 0s - loss: 0.3207 - accuracy: 0.8936\n",
      "Epoch 33: val_loss did not improve from 0.04254\n",
      "85/85 [==============================] - 0s 3ms/step - loss: 0.3220 - accuracy: 0.8922 - val_loss: 0.0454 - val_accuracy: 0.9978\n",
      "Epoch 34/1000\n",
      "56/85 [==================>...........] - ETA: 0s - loss: 0.3162 - accuracy: 0.8894\n",
      "Epoch 34: val_loss did not improve from 0.04254\n",
      "85/85 [==============================] - 0s 2ms/step - loss: 0.3184 - accuracy: 0.8906 - val_loss: 0.0428 - val_accuracy: 0.9978\n",
      "Epoch 35/1000\n",
      "85/85 [==============================] - ETA: 0s - loss: 0.3126 - accuracy: 0.8961\n",
      "Epoch 35: val_loss improved from 0.04254 to 0.04076, saving model to ../assets/models/model.h5\n",
      "85/85 [==============================] - 0s 3ms/step - loss: 0.3126 - accuracy: 0.8961 - val_loss: 0.0408 - val_accuracy: 0.9978\n",
      "Epoch 36/1000\n",
      "83/85 [============================>.] - ETA: 0s - loss: 0.3074 - accuracy: 0.9003\n",
      "Epoch 36: val_loss did not improve from 0.04076\n",
      "85/85 [==============================] - 0s 3ms/step - loss: 0.3059 - accuracy: 0.9008 - val_loss: 0.0439 - val_accuracy: 0.9981\n",
      "Epoch 37/1000\n",
      "57/85 [===================>..........] - ETA: 0s - loss: 0.3065 - accuracy: 0.8960\n",
      "Epoch 37: val_loss did not improve from 0.04076\n",
      "85/85 [==============================] - 0s 2ms/step - loss: 0.3043 - accuracy: 0.8982 - val_loss: 0.0414 - val_accuracy: 0.9975\n",
      "Epoch 38/1000\n",
      "56/85 [==================>...........] - ETA: 0s - loss: 0.2984 - accuracy: 0.9000\n",
      "Epoch 38: val_loss improved from 0.04076 to 0.04055, saving model to ../assets/models/model.h5\n",
      "85/85 [==============================] - 0s 3ms/step - loss: 0.2966 - accuracy: 0.9000 - val_loss: 0.0406 - val_accuracy: 0.9978\n",
      "Epoch 39/1000\n",
      "84/85 [============================>.] - ETA: 0s - loss: 0.3071 - accuracy: 0.8944\n",
      "Epoch 39: val_loss did not improve from 0.04055\n",
      "85/85 [==============================] - 0s 3ms/step - loss: 0.3076 - accuracy: 0.8942 - val_loss: 0.0416 - val_accuracy: 0.9975\n",
      "Epoch 40/1000\n",
      "57/85 [===================>..........] - ETA: 0s - loss: 0.2921 - accuracy: 0.9008\n",
      "Epoch 40: val_loss improved from 0.04055 to 0.03527, saving model to ../assets/models/model.h5\n",
      "85/85 [==============================] - 0s 3ms/step - loss: 0.2902 - accuracy: 0.9008 - val_loss: 0.0353 - val_accuracy: 0.9978\n",
      "Epoch 41/1000\n",
      "83/85 [============================>.] - ETA: 0s - loss: 0.2950 - accuracy: 0.9026\n",
      "Epoch 41: val_loss did not improve from 0.03527\n",
      "85/85 [==============================] - 0s 3ms/step - loss: 0.2963 - accuracy: 0.9024 - val_loss: 0.0353 - val_accuracy: 0.9978\n",
      "Epoch 42/1000\n",
      "80/85 [===========================>..] - ETA: 0s - loss: 0.2847 - accuracy: 0.8996\n",
      "Epoch 42: val_loss did not improve from 0.03527\n",
      "85/85 [==============================] - 0s 3ms/step - loss: 0.2847 - accuracy: 0.9000 - val_loss: 0.0388 - val_accuracy: 0.9978\n",
      "Epoch 43/1000\n",
      "72/85 [========================>.....] - ETA: 0s - loss: 0.2733 - accuracy: 0.9090\n",
      "Epoch 43: val_loss did not improve from 0.03527\n",
      "85/85 [==============================] - 0s 3ms/step - loss: 0.2715 - accuracy: 0.9090 - val_loss: 0.0363 - val_accuracy: 0.9981\n",
      "Epoch 44/1000\n",
      "83/85 [============================>.] - ETA: 0s - loss: 0.2904 - accuracy: 0.9042\n",
      "Epoch 44: val_loss did not improve from 0.03527\n",
      "85/85 [==============================] - 0s 3ms/step - loss: 0.2892 - accuracy: 0.9046 - val_loss: 0.0394 - val_accuracy: 0.9978\n",
      "Epoch 45/1000\n",
      "68/85 [=======================>......] - ETA: 0s - loss: 0.2812 - accuracy: 0.9053\n",
      "Epoch 45: val_loss improved from 0.03527 to 0.03286, saving model to ../assets/models/model.h5\n",
      "85/85 [==============================] - 0s 3ms/step - loss: 0.2840 - accuracy: 0.9044 - val_loss: 0.0329 - val_accuracy: 0.9978\n",
      "Epoch 46/1000\n",
      "78/85 [==========================>...] - ETA: 0s - loss: 0.2981 - accuracy: 0.9011\n",
      "Epoch 46: val_loss did not improve from 0.03286\n",
      "85/85 [==============================] - 0s 3ms/step - loss: 0.2985 - accuracy: 0.9014 - val_loss: 0.0408 - val_accuracy: 0.9978\n",
      "Epoch 47/1000\n",
      "57/85 [===================>..........] - ETA: 0s - loss: 0.2871 - accuracy: 0.9008\n",
      "Epoch 47: val_loss did not improve from 0.03286\n",
      "85/85 [==============================] - 0s 2ms/step - loss: 0.2806 - accuracy: 0.9045 - val_loss: 0.0334 - val_accuracy: 0.9981\n",
      "Epoch 48/1000\n",
      "79/85 [==========================>...] - ETA: 0s - loss: 0.2885 - accuracy: 0.9047\n",
      "Epoch 48: val_loss did not improve from 0.03286\n",
      "85/85 [==============================] - 0s 3ms/step - loss: 0.2861 - accuracy: 0.9055 - val_loss: 0.0333 - val_accuracy: 0.9981\n",
      "Epoch 49/1000\n",
      "57/85 [===================>..........] - ETA: 0s - loss: 0.2844 - accuracy: 0.9043\n",
      "Epoch 49: val_loss did not improve from 0.03286\n",
      "85/85 [==============================] - 0s 2ms/step - loss: 0.2855 - accuracy: 0.9023 - val_loss: 0.0353 - val_accuracy: 0.9981\n",
      "Epoch 50/1000\n",
      "84/85 [============================>.] - ETA: 0s - loss: 0.2752 - accuracy: 0.9039\n",
      "Epoch 50: val_loss did not improve from 0.03286\n",
      "85/85 [==============================] - 0s 3ms/step - loss: 0.2749 - accuracy: 0.9041 - val_loss: 0.0344 - val_accuracy: 0.9978\n",
      "Epoch 51/1000\n",
      "73/85 [========================>.....] - ETA: 0s - loss: 0.2830 - accuracy: 0.9057\n",
      "Epoch 51: val_loss did not improve from 0.03286\n",
      "85/85 [==============================] - 0s 3ms/step - loss: 0.2781 - accuracy: 0.9080 - val_loss: 0.0333 - val_accuracy: 0.9978\n",
      "Epoch 52/1000\n",
      "84/85 [============================>.] - ETA: 0s - loss: 0.2610 - accuracy: 0.9090\n",
      "Epoch 52: val_loss did not improve from 0.03286\n",
      "85/85 [==============================] - 0s 3ms/step - loss: 0.2605 - accuracy: 0.9092 - val_loss: 0.0342 - val_accuracy: 0.9981\n",
      "Epoch 53/1000\n",
      "58/85 [===================>..........] - ETA: 0s - loss: 0.2750 - accuracy: 0.9100\n",
      "Epoch 53: val_loss improved from 0.03286 to 0.03210, saving model to ../assets/models/model.h5\n",
      "85/85 [==============================] - 0s 3ms/step - loss: 0.2734 - accuracy: 0.9093 - val_loss: 0.0321 - val_accuracy: 0.9981\n",
      "Epoch 54/1000\n",
      "80/85 [===========================>..] - ETA: 0s - loss: 0.2671 - accuracy: 0.9081\n",
      "Epoch 54: val_loss improved from 0.03210 to 0.03136, saving model to ../assets/models/model.h5\n",
      "85/85 [==============================] - 0s 3ms/step - loss: 0.2679 - accuracy: 0.9079 - val_loss: 0.0314 - val_accuracy: 0.9975\n",
      "Epoch 55/1000\n",
      "82/85 [===========================>..] - ETA: 0s - loss: 0.2732 - accuracy: 0.9075\n",
      "Epoch 55: val_loss did not improve from 0.03136\n",
      "85/85 [==============================] - 0s 3ms/step - loss: 0.2732 - accuracy: 0.9070 - val_loss: 0.0335 - val_accuracy: 0.9981\n",
      "Epoch 56/1000\n",
      "57/85 [===================>..........] - ETA: 0s - loss: 0.2692 - accuracy: 0.9102\n",
      "Epoch 56: val_loss did not improve from 0.03136\n",
      "85/85 [==============================] - 0s 2ms/step - loss: 0.2683 - accuracy: 0.9101 - val_loss: 0.0356 - val_accuracy: 0.9978\n",
      "Epoch 57/1000\n",
      "58/85 [===================>..........] - ETA: 0s - loss: 0.2899 - accuracy: 0.9003\n",
      "Epoch 57: val_loss improved from 0.03136 to 0.03053, saving model to ../assets/models/model.h5\n",
      "85/85 [==============================] - 0s 3ms/step - loss: 0.2844 - accuracy: 0.9041 - val_loss: 0.0305 - val_accuracy: 0.9981\n",
      "Epoch 58/1000\n",
      "80/85 [===========================>..] - ETA: 0s - loss: 0.2695 - accuracy: 0.9071\n",
      "Epoch 58: val_loss did not improve from 0.03053\n",
      "85/85 [==============================] - 0s 3ms/step - loss: 0.2701 - accuracy: 0.9072 - val_loss: 0.0313 - val_accuracy: 0.9981\n",
      "Epoch 59/1000\n",
      "72/85 [========================>.....] - ETA: 0s - loss: 0.2704 - accuracy: 0.9060\n",
      "Epoch 59: val_loss improved from 0.03053 to 0.02912, saving model to ../assets/models/model.h5\n",
      "85/85 [==============================] - 0s 3ms/step - loss: 0.2693 - accuracy: 0.9061 - val_loss: 0.0291 - val_accuracy: 0.9975\n",
      "Epoch 60/1000\n",
      "83/85 [============================>.] - ETA: 0s - loss: 0.2677 - accuracy: 0.9100\n",
      "Epoch 60: val_loss did not improve from 0.02912\n",
      "85/85 [==============================] - 0s 3ms/step - loss: 0.2669 - accuracy: 0.9104 - val_loss: 0.0300 - val_accuracy: 0.9981\n",
      "Epoch 61/1000\n",
      "85/85 [==============================] - ETA: 0s - loss: 0.2593 - accuracy: 0.9099\n",
      "Epoch 61: val_loss did not improve from 0.02912\n",
      "85/85 [==============================] - 0s 3ms/step - loss: 0.2593 - accuracy: 0.9099 - val_loss: 0.0303 - val_accuracy: 0.9981\n",
      "Epoch 62/1000\n",
      "84/85 [============================>.] - ETA: 0s - loss: 0.2699 - accuracy: 0.9085\n",
      "Epoch 62: val_loss did not improve from 0.02912\n",
      "85/85 [==============================] - 0s 3ms/step - loss: 0.2706 - accuracy: 0.9083 - val_loss: 0.0336 - val_accuracy: 0.9981\n",
      "Epoch 63/1000\n",
      "57/85 [===================>..........] - ETA: 0s - loss: 0.2616 - accuracy: 0.9124\n",
      "Epoch 63: val_loss did not improve from 0.02912\n",
      "85/85 [==============================] - 0s 2ms/step - loss: 0.2609 - accuracy: 0.9133 - val_loss: 0.0306 - val_accuracy: 0.9981\n",
      "Epoch 64/1000\n",
      "56/85 [==================>...........] - ETA: 0s - loss: 0.2538 - accuracy: 0.9127\n",
      "Epoch 64: val_loss did not improve from 0.02912\n",
      "85/85 [==============================] - 0s 3ms/step - loss: 0.2595 - accuracy: 0.9110 - val_loss: 0.0335 - val_accuracy: 0.9981\n",
      "Epoch 65/1000\n",
      "74/85 [=========================>....] - ETA: 0s - loss: 0.2635 - accuracy: 0.9064\n",
      "Epoch 65: val_loss did not improve from 0.02912\n",
      "85/85 [==============================] - 0s 3ms/step - loss: 0.2645 - accuracy: 0.9067 - val_loss: 0.0302 - val_accuracy: 0.9981\n",
      "Epoch 66/1000\n",
      "57/85 [===================>..........] - ETA: 0s - loss: 0.2766 - accuracy: 0.9065\n",
      "Epoch 66: val_loss improved from 0.02912 to 0.02831, saving model to ../assets/models/model.h5\n",
      "85/85 [==============================] - 0s 3ms/step - loss: 0.2695 - accuracy: 0.9074 - val_loss: 0.0283 - val_accuracy: 0.9981\n",
      "Epoch 67/1000\n",
      "70/85 [=======================>......] - ETA: 0s - loss: 0.2660 - accuracy: 0.9079\n",
      "Epoch 67: val_loss did not improve from 0.02831\n",
      "85/85 [==============================] - 0s 3ms/step - loss: 0.2660 - accuracy: 0.9073 - val_loss: 0.0347 - val_accuracy: 0.9981\n",
      "Epoch 68/1000\n",
      "85/85 [==============================] - ETA: 0s - loss: 0.2574 - accuracy: 0.9140\n",
      "Epoch 68: val_loss did not improve from 0.02831\n",
      "85/85 [==============================] - 0s 3ms/step - loss: 0.2574 - accuracy: 0.9140 - val_loss: 0.0309 - val_accuracy: 0.9978\n",
      "Epoch 69/1000\n",
      "85/85 [==============================] - ETA: 0s - loss: 0.2705 - accuracy: 0.9085\n",
      "Epoch 69: val_loss did not improve from 0.02831\n",
      "85/85 [==============================] - 0s 3ms/step - loss: 0.2705 - accuracy: 0.9085 - val_loss: 0.0371 - val_accuracy: 0.9983\n",
      "Epoch 70/1000\n",
      "85/85 [==============================] - ETA: 0s - loss: 0.2581 - accuracy: 0.9131\n",
      "Epoch 70: val_loss did not improve from 0.02831\n",
      "85/85 [==============================] - 0s 3ms/step - loss: 0.2581 - accuracy: 0.9131 - val_loss: 0.0325 - val_accuracy: 0.9978\n",
      "Epoch 71/1000\n",
      "71/85 [========================>.....] - ETA: 0s - loss: 0.2559 - accuracy: 0.9114\n",
      "Epoch 71: val_loss did not improve from 0.02831\n",
      "85/85 [==============================] - 0s 3ms/step - loss: 0.2558 - accuracy: 0.9120 - val_loss: 0.0318 - val_accuracy: 0.9981\n",
      "Epoch 72/1000\n",
      "85/85 [==============================] - ETA: 0s - loss: 0.2626 - accuracy: 0.9134\n",
      "Epoch 72: val_loss did not improve from 0.02831\n",
      "85/85 [==============================] - 0s 3ms/step - loss: 0.2626 - accuracy: 0.9134 - val_loss: 0.0334 - val_accuracy: 0.9978\n",
      "Epoch 73/1000\n",
      "57/85 [===================>..........] - ETA: 0s - loss: 0.2429 - accuracy: 0.9142\n",
      "Epoch 73: val_loss did not improve from 0.02831\n",
      "85/85 [==============================] - 0s 2ms/step - loss: 0.2509 - accuracy: 0.9135 - val_loss: 0.0318 - val_accuracy: 0.9975\n",
      "Epoch 74/1000\n",
      "56/85 [==================>...........] - ETA: 0s - loss: 0.2604 - accuracy: 0.9085\n",
      "Epoch 74: val_loss improved from 0.02831 to 0.02621, saving model to ../assets/models/model.h5\n",
      "85/85 [==============================] - 0s 3ms/step - loss: 0.2606 - accuracy: 0.9094 - val_loss: 0.0262 - val_accuracy: 0.9978\n",
      "Epoch 75/1000\n",
      "80/85 [===========================>..] - ETA: 0s - loss: 0.2498 - accuracy: 0.9161\n",
      "Epoch 75: val_loss did not improve from 0.02621\n",
      "85/85 [==============================] - 0s 3ms/step - loss: 0.2476 - accuracy: 0.9165 - val_loss: 0.0296 - val_accuracy: 0.9981\n",
      "Epoch 76/1000\n",
      "75/85 [=========================>....] - ETA: 0s - loss: 0.2551 - accuracy: 0.9169\n",
      "Epoch 76: val_loss did not improve from 0.02621\n",
      "85/85 [==============================] - 0s 3ms/step - loss: 0.2564 - accuracy: 0.9156 - val_loss: 0.0287 - val_accuracy: 0.9978\n",
      "Epoch 77/1000\n",
      "84/85 [============================>.] - ETA: 0s - loss: 0.2550 - accuracy: 0.9129\n",
      "Epoch 77: val_loss did not improve from 0.02621\n",
      "85/85 [==============================] - 0s 3ms/step - loss: 0.2544 - accuracy: 0.9132 - val_loss: 0.0333 - val_accuracy: 0.9981\n",
      "Epoch 78/1000\n",
      "56/85 [==================>...........] - ETA: 0s - loss: 0.2402 - accuracy: 0.9131\n",
      "Epoch 78: val_loss improved from 0.02621 to 0.02613, saving model to ../assets/models/model.h5\n",
      "85/85 [==============================] - 0s 3ms/step - loss: 0.2388 - accuracy: 0.9146 - val_loss: 0.0261 - val_accuracy: 0.9981\n",
      "Epoch 79/1000\n",
      "81/85 [===========================>..] - ETA: 0s - loss: 0.2500 - accuracy: 0.9158\n",
      "Epoch 79: val_loss did not improve from 0.02613\n",
      "85/85 [==============================] - 0s 3ms/step - loss: 0.2491 - accuracy: 0.9155 - val_loss: 0.0271 - val_accuracy: 0.9981\n",
      "Epoch 80/1000\n",
      "56/85 [==================>...........] - ETA: 0s - loss: 0.2375 - accuracy: 0.9206\n",
      "Epoch 80: val_loss did not improve from 0.02613\n",
      "85/85 [==============================] - 0s 2ms/step - loss: 0.2429 - accuracy: 0.9169 - val_loss: 0.0293 - val_accuracy: 0.9981\n",
      "Epoch 81/1000\n",
      "74/85 [=========================>....] - ETA: 0s - loss: 0.2306 - accuracy: 0.9211\n",
      "Epoch 81: val_loss did not improve from 0.02613\n",
      "85/85 [==============================] - 0s 3ms/step - loss: 0.2332 - accuracy: 0.9207 - val_loss: 0.0272 - val_accuracy: 0.9981\n",
      "Epoch 82/1000\n",
      "56/85 [==================>...........] - ETA: 0s - loss: 0.2570 - accuracy: 0.9141\n",
      "Epoch 82: val_loss did not improve from 0.02613\n",
      "85/85 [==============================] - 0s 3ms/step - loss: 0.2522 - accuracy: 0.9149 - val_loss: 0.0304 - val_accuracy: 0.9978\n",
      "Epoch 83/1000\n",
      "56/85 [==================>...........] - ETA: 0s - loss: 0.2413 - accuracy: 0.9152\n",
      "Epoch 83: val_loss did not improve from 0.02613\n",
      "85/85 [==============================] - 0s 3ms/step - loss: 0.2468 - accuracy: 0.9154 - val_loss: 0.0265 - val_accuracy: 0.9981\n",
      "Epoch 84/1000\n",
      "58/85 [===================>..........] - ETA: 0s - loss: 0.2482 - accuracy: 0.9141\n",
      "Epoch 84: val_loss did not improve from 0.02613\n",
      "85/85 [==============================] - 0s 2ms/step - loss: 0.2521 - accuracy: 0.9118 - val_loss: 0.0271 - val_accuracy: 0.9981\n",
      "Epoch 85/1000\n",
      "57/85 [===================>..........] - ETA: 0s - loss: 0.2589 - accuracy: 0.9108\n",
      "Epoch 85: val_loss did not improve from 0.02613\n",
      "85/85 [==============================] - 0s 2ms/step - loss: 0.2508 - accuracy: 0.9148 - val_loss: 0.0286 - val_accuracy: 0.9981\n",
      "Epoch 86/1000\n",
      "74/85 [=========================>....] - ETA: 0s - loss: 0.2620 - accuracy: 0.9105\n",
      "Epoch 86: val_loss did not improve from 0.02613\n",
      "85/85 [==============================] - 0s 3ms/step - loss: 0.2583 - accuracy: 0.9113 - val_loss: 0.0315 - val_accuracy: 0.9953\n",
      "Epoch 87/1000\n",
      "57/85 [===================>..........] - ETA: 0s - loss: 0.2484 - accuracy: 0.9121\n",
      "Epoch 87: val_loss did not improve from 0.02613\n",
      "85/85 [==============================] - 0s 2ms/step - loss: 0.2445 - accuracy: 0.9133 - val_loss: 0.0287 - val_accuracy: 0.9975\n",
      "Epoch 88/1000\n",
      "57/85 [===================>..........] - ETA: 0s - loss: 0.2518 - accuracy: 0.9090\n",
      "Epoch 88: val_loss did not improve from 0.02613\n",
      "85/85 [==============================] - 0s 2ms/step - loss: 0.2557 - accuracy: 0.9091 - val_loss: 0.0324 - val_accuracy: 0.9958\n",
      "Epoch 89/1000\n",
      "56/85 [==================>...........] - ETA: 0s - loss: 0.2476 - accuracy: 0.9096\n",
      "Epoch 89: val_loss did not improve from 0.02613\n",
      "85/85 [==============================] - 0s 3ms/step - loss: 0.2447 - accuracy: 0.9125 - val_loss: 0.0276 - val_accuracy: 0.9978\n",
      "Epoch 90/1000\n",
      "83/85 [============================>.] - ETA: 0s - loss: 0.2447 - accuracy: 0.9159\n",
      "Epoch 90: val_loss did not improve from 0.02613\n",
      "85/85 [==============================] - 0s 3ms/step - loss: 0.2455 - accuracy: 0.9156 - val_loss: 0.0271 - val_accuracy: 0.9978\n",
      "Epoch 91/1000\n",
      "71/85 [========================>.....] - ETA: 0s - loss: 0.2315 - accuracy: 0.9163\n",
      "Epoch 91: val_loss did not improve from 0.02613\n",
      "85/85 [==============================] - 0s 3ms/step - loss: 0.2386 - accuracy: 0.9164 - val_loss: 0.0280 - val_accuracy: 0.9978\n",
      "Epoch 92/1000\n",
      "84/85 [============================>.] - ETA: 0s - loss: 0.2464 - accuracy: 0.9138\n",
      "Epoch 92: val_loss did not improve from 0.02613\n",
      "85/85 [==============================] - 0s 3ms/step - loss: 0.2467 - accuracy: 0.9140 - val_loss: 0.0285 - val_accuracy: 0.9978\n",
      "Epoch 93/1000\n",
      "85/85 [==============================] - ETA: 0s - loss: 0.2365 - accuracy: 0.9193\n",
      "Epoch 93: val_loss improved from 0.02613 to 0.02491, saving model to ../assets/models/model.h5\n",
      "85/85 [==============================] - 0s 3ms/step - loss: 0.2365 - accuracy: 0.9193 - val_loss: 0.0249 - val_accuracy: 0.9978\n",
      "Epoch 94/1000\n",
      "82/85 [===========================>..] - ETA: 0s - loss: 0.2510 - accuracy: 0.9163\n",
      "Epoch 94: val_loss did not improve from 0.02491\n",
      "85/85 [==============================] - 0s 3ms/step - loss: 0.2515 - accuracy: 0.9166 - val_loss: 0.0266 - val_accuracy: 0.9978\n",
      "Epoch 95/1000\n",
      "73/85 [========================>.....] - ETA: 0s - loss: 0.2366 - accuracy: 0.9187\n",
      "Epoch 95: val_loss improved from 0.02491 to 0.02351, saving model to ../assets/models/model.h5\n",
      "85/85 [==============================] - 0s 3ms/step - loss: 0.2331 - accuracy: 0.9195 - val_loss: 0.0235 - val_accuracy: 0.9981\n",
      "Epoch 96/1000\n",
      "80/85 [===========================>..] - ETA: 0s - loss: 0.2332 - accuracy: 0.9216\n",
      "Epoch 96: val_loss did not improve from 0.02351\n",
      "85/85 [==============================] - 0s 3ms/step - loss: 0.2321 - accuracy: 0.9218 - val_loss: 0.0298 - val_accuracy: 0.9978\n",
      "Epoch 97/1000\n",
      "56/85 [==================>...........] - ETA: 0s - loss: 0.2438 - accuracy: 0.9164\n",
      "Epoch 97: val_loss did not improve from 0.02351\n",
      "85/85 [==============================] - 0s 2ms/step - loss: 0.2481 - accuracy: 0.9143 - val_loss: 0.0294 - val_accuracy: 0.9975\n",
      "Epoch 98/1000\n",
      "85/85 [==============================] - ETA: 0s - loss: 0.2403 - accuracy: 0.9200\n",
      "Epoch 98: val_loss did not improve from 0.02351\n",
      "85/85 [==============================] - 0s 3ms/step - loss: 0.2403 - accuracy: 0.9200 - val_loss: 0.0245 - val_accuracy: 0.9978\n",
      "Epoch 99/1000\n",
      "71/85 [========================>.....] - ETA: 0s - loss: 0.2387 - accuracy: 0.9192\n",
      "Epoch 99: val_loss did not improve from 0.02351\n",
      "85/85 [==============================] - 0s 3ms/step - loss: 0.2373 - accuracy: 0.9193 - val_loss: 0.0309 - val_accuracy: 0.9972\n",
      "Epoch 100/1000\n",
      "84/85 [============================>.] - ETA: 0s - loss: 0.2390 - accuracy: 0.9182\n",
      "Epoch 100: val_loss did not improve from 0.02351\n",
      "85/85 [==============================] - 0s 3ms/step - loss: 0.2389 - accuracy: 0.9180 - val_loss: 0.0254 - val_accuracy: 0.9981\n",
      "Epoch 101/1000\n",
      "83/85 [============================>.] - ETA: 0s - loss: 0.2413 - accuracy: 0.9181\n",
      "Epoch 101: val_loss did not improve from 0.02351\n",
      "85/85 [==============================] - 0s 3ms/step - loss: 0.2415 - accuracy: 0.9180 - val_loss: 0.0286 - val_accuracy: 0.9972\n",
      "Epoch 102/1000\n",
      "57/85 [===================>..........] - ETA: 0s - loss: 0.2310 - accuracy: 0.9201\n",
      "Epoch 102: val_loss did not improve from 0.02351\n",
      "85/85 [==============================] - 0s 2ms/step - loss: 0.2294 - accuracy: 0.9215 - val_loss: 0.0245 - val_accuracy: 0.9975\n",
      "Epoch 103/1000\n",
      "73/85 [========================>.....] - ETA: 0s - loss: 0.2324 - accuracy: 0.9219\n",
      "Epoch 103: val_loss did not improve from 0.02351\n",
      "85/85 [==============================] - 0s 3ms/step - loss: 0.2300 - accuracy: 0.9230 - val_loss: 0.0337 - val_accuracy: 0.9931\n",
      "Epoch 104/1000\n",
      "84/85 [============================>.] - ETA: 0s - loss: 0.2370 - accuracy: 0.9177\n",
      "Epoch 104: val_loss did not improve from 0.02351\n",
      "85/85 [==============================] - 0s 3ms/step - loss: 0.2375 - accuracy: 0.9173 - val_loss: 0.0313 - val_accuracy: 0.9939\n",
      "Epoch 105/1000\n",
      "85/85 [==============================] - ETA: 0s - loss: 0.2373 - accuracy: 0.9177\n",
      "Epoch 105: val_loss did not improve from 0.02351\n",
      "85/85 [==============================] - 0s 3ms/step - loss: 0.2373 - accuracy: 0.9177 - val_loss: 0.0302 - val_accuracy: 0.9950\n",
      "Epoch 106/1000\n",
      "57/85 [===================>..........] - ETA: 0s - loss: 0.2573 - accuracy: 0.9157\n",
      "Epoch 106: val_loss did not improve from 0.02351\n",
      "85/85 [==============================] - 0s 3ms/step - loss: 0.2534 - accuracy: 0.9158 - val_loss: 0.0290 - val_accuracy: 0.9969\n",
      "Epoch 107/1000\n",
      "73/85 [========================>.....] - ETA: 0s - loss: 0.2233 - accuracy: 0.9239\n",
      "Epoch 107: val_loss did not improve from 0.02351\n",
      "85/85 [==============================] - 0s 3ms/step - loss: 0.2248 - accuracy: 0.9227 - val_loss: 0.0239 - val_accuracy: 0.9981\n",
      "Epoch 108/1000\n",
      "57/85 [===================>..........] - ETA: 0s - loss: 0.2299 - accuracy: 0.9189\n",
      "Epoch 108: val_loss did not improve from 0.02351\n",
      "85/85 [==============================] - 0s 2ms/step - loss: 0.2264 - accuracy: 0.9198 - val_loss: 0.0235 - val_accuracy: 0.9978\n",
      "Epoch 109/1000\n",
      "56/85 [==================>...........] - ETA: 0s - loss: 0.2315 - accuracy: 0.9209\n",
      "Epoch 109: val_loss did not improve from 0.02351\n",
      "85/85 [==============================] - 0s 3ms/step - loss: 0.2355 - accuracy: 0.9193 - val_loss: 0.0272 - val_accuracy: 0.9969\n",
      "Epoch 110/1000\n",
      "57/85 [===================>..........] - ETA: 0s - loss: 0.2443 - accuracy: 0.9145\n",
      "Epoch 110: val_loss did not improve from 0.02351\n",
      "85/85 [==============================] - 0s 3ms/step - loss: 0.2410 - accuracy: 0.9144 - val_loss: 0.0301 - val_accuracy: 0.9939\n",
      "Epoch 111/1000\n",
      "72/85 [========================>.....] - ETA: 0s - loss: 0.2268 - accuracy: 0.9196\n",
      "Epoch 111: val_loss did not improve from 0.02351\n",
      "85/85 [==============================] - 0s 3ms/step - loss: 0.2296 - accuracy: 0.9194 - val_loss: 0.0291 - val_accuracy: 0.9947\n",
      "Epoch 112/1000\n",
      "81/85 [===========================>..] - ETA: 0s - loss: 0.2349 - accuracy: 0.9198\n",
      "Epoch 112: val_loss did not improve from 0.02351\n",
      "85/85 [==============================] - 0s 3ms/step - loss: 0.2327 - accuracy: 0.9205 - val_loss: 0.0247 - val_accuracy: 0.9975\n",
      "Epoch 113/1000\n",
      "84/85 [============================>.] - ETA: 0s - loss: 0.2364 - accuracy: 0.9210\n",
      "Epoch 113: val_loss did not improve from 0.02351\n",
      "85/85 [==============================] - 0s 3ms/step - loss: 0.2370 - accuracy: 0.9207 - val_loss: 0.0252 - val_accuracy: 0.9978\n",
      "Epoch 114/1000\n",
      "81/85 [===========================>..] - ETA: 0s - loss: 0.2299 - accuracy: 0.9207\n",
      "Epoch 114: val_loss did not improve from 0.02351\n",
      "85/85 [==============================] - 0s 3ms/step - loss: 0.2302 - accuracy: 0.9202 - val_loss: 0.0275 - val_accuracy: 0.9975\n",
      "Epoch 115/1000\n",
      "72/85 [========================>.....] - ETA: 0s - loss: 0.2212 - accuracy: 0.9222\n",
      "Epoch 115: val_loss did not improve from 0.02351\n",
      "85/85 [==============================] - 0s 3ms/step - loss: 0.2228 - accuracy: 0.9221 - val_loss: 0.0266 - val_accuracy: 0.9947\n",
      "Epoch 115: early stopping\n"
     ]
    }
   ],
   "source": [
    "history = model.fit(\n",
    "    x_train,\n",
    "    y_train,\n",
    "    epochs=epoche,\n",
    "    batch_size=batch_size,\n",
    "    validation_data=(x_test, y_test),\n",
    "    callbacks=[cp_callback, es_callback]\n",
    ")\n",
    "\n",
    "model.save(model_save_path+'/model.h5')\n",
    "# model.save(model_save_path+'/model.h5py')"
   ]
  },
  {
   "cell_type": "code",
   "execution_count": 15,
   "metadata": {},
   "outputs": [
    {
     "name": "stdout",
     "output_type": "stream",
     "text": [
      "29/29 [==============================] - 0s 2ms/step - loss: 0.0266 - accuracy: 0.9947\n"
     ]
    }
   ],
   "source": [
    "# Model evaluation\n",
    "\n",
    "val_loss, val_acc = model.evaluate(x_test, y_test, batch_size)"
   ]
  },
  {
   "cell_type": "code",
   "execution_count": 5,
   "metadata": {},
   "outputs": [
    {
     "name": "stdout",
     "output_type": "stream",
     "text": [
      "You must install pydot (`pip install pydot`) and install graphviz (see instructions at https://graphviz.gitlab.io/download/) for plot_model to work.\n"
     ]
    }
   ],
   "source": [
    "# Loading saved model\n",
    "\n",
    "model = tf.keras.models.load_model(model_save_path+'/model.h5')\n",
    "\n",
    "# model.summary()\n",
    "\n",
    "from keras.utils import plot_model\n",
    "plot_model(model, to_file='model.png',show_shapes=True)"
   ]
  },
  {
   "cell_type": "code",
   "execution_count": null,
   "metadata": {},
   "outputs": [],
   "source": [
    "# Save as a model dedicated to inference\n",
    "# model.save(model_save_path+'/model_include_optimize.h5', include_optimizer=False)\n",
    "\n",
    "# Transform model (quantization)\n",
    "\n",
    "converter = tf.lite.TFLiteConverter.from_keras_model(model)\n",
    "converter.optimizations = [tf.lite.Optimize.DEFAULT]\n",
    "tflite_quantized_model = converter.convert()\n",
    "\n",
    "open(tflite_save_path, 'wb').write(tflite_quantized_model)"
   ]
  },
  {
   "cell_type": "markdown",
   "metadata": {},
   "source": [
    "### Confusion Matrix"
   ]
  },
  {
   "cell_type": "code",
   "execution_count": null,
   "metadata": {},
   "outputs": [],
   "source": [
    "def print_confusion_matrix(y_true, y_pred, report = True):\n",
    "    labels = sorted(list(set(y_true)))\n",
    "    cmx_data = confusion_matrix(y_true, y_pred)\n",
    "    df_cmx = pd.DataFrame(cmx_data, index = labels, columns = labels)\n",
    "    fig,ax = plt.subplots(figsize=(7,6))\n",
    "    sns.heatmap(df_cmx, annot=True, fmt='g', square=False)\n",
    "    ax.set_ylim(len(set(y_true)),0)\n",
    "    ax.set_xlabel('Actual')\n",
    "    ax.set_ylabel('Predicted')\n",
    "    plt.show()\n",
    "\n",
    "    if report:\n",
    "        print('Classification Report')\n",
    "        print(classification_report(y_validation, y_pred))"
   ]
  },
  {
   "cell_type": "code",
   "execution_count": null,
   "metadata": {},
   "outputs": [],
   "source": [
    "Y_pred = model.predict(x_validation)\n",
    "y_pred = np.argmax(Y_pred, axis =1)\n",
    "\n",
    "print_confusion_matrix(y_validation, y_pred)"
   ]
  },
  {
   "cell_type": "markdown",
   "metadata": {},
   "source": [
    "### Model Plots "
   ]
  },
  {
   "cell_type": "code",
   "execution_count": null,
   "metadata": {},
   "outputs": [],
   "source": [
    "from matplotlib.pyplot import title\n",
    "\n",
    "\n",
    "pyo.init_notebook_mode()\n",
    "\n",
    "def Plot(history , name , model):\n",
    "    epochs = range(1,len(history.history['loss']) + 1)\n",
    "    epochs = list(epochs)\n",
    "    fig = make_subplots(rows=2, \n",
    "                        cols=2,\n",
    "                        subplot_titles=(\"Train Loss\", \n",
    "                                        \"Train Accuracy\",\n",
    "                                        \"Validation Loss\", \n",
    "                                        \"Validation Accuracy\",)\n",
    "                        )\n",
    "    fig.add_trace(go.Scatter(x=epochs, y=history.history['loss']), row=1, col=1)\n",
    "    fig.add_trace(go.Scatter(x=epochs, y=history.history['accuracy']), row=1, col=2)\n",
    "    fig.add_trace(go.Scatter(x=epochs, y=history.history['val_loss']), row=2, col=1)\n",
    "    fig.add_trace(go.Scatter(x=epochs, y=history.history['val_accuracy']), row=2, col=2)\n",
    "    fig.update_layout(showlegend=False,height=1000, width=1200, title_text=name)\n",
    "    fig.update_xaxes(title_text='epochs')\n",
    "    fig.update_yaxes(title_text='value')\n",
    "    pyo.iplot(fig, filename = 'Act_train_rec')\n",
    "\n",
    "Plot(history, 'Model valutation',model)"
   ]
  }
 ],
 "metadata": {
  "kernelspec": {
   "display_name": "Python 3.8.9 64-bit ('3.8.9')",
   "language": "python",
   "name": "python3"
  },
  "language_info": {
   "codemirror_mode": {
    "name": "ipython",
    "version": 3
   },
   "file_extension": ".py",
   "mimetype": "text/x-python",
   "name": "python",
   "nbconvert_exporter": "python",
   "pygments_lexer": "ipython3",
   "version": "3.8.9"
  },
  "orig_nbformat": 4,
  "vscode": {
   "interpreter": {
    "hash": "8412e71e89c41fae03c915056ff2e12ae76d88b0fed3e4a11c84285d205d0a0d"
   }
  }
 },
 "nbformat": 4,
 "nbformat_minor": 2
}
